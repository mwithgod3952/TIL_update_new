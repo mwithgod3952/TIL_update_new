{
 "cells": [
  {
   "cell_type": "markdown",
   "id": "bd3df7b7-6773-4fed-8df3-98d37e077362",
   "metadata": {},
   "source": [
    "- 본 과정에서는 \"Robust regression\"을 다른 regression과 비교하여 볼 것입니다.\n",
    "\n",
    "regression은 임의에 x 값이 변화됩에 따라 y값의 변화량이 선형적(y = ax + ε)인지를 확률(p-value)로 정의한다. \n",
    "따라서, 오차가 존재하고 더불어, 이상치에 따라 예측이 외곡될 수도 있다.\n",
    "\n",
    "Robust regression은 이상치 탐색과 함께 회귀가 가능하다."
   ]
  },
  {
   "cell_type": "code",
   "execution_count": 1,
   "id": "270ff498-4d5b-42e1-9cd0-e5b34d7fe9c3",
   "metadata": {},
   "outputs": [],
   "source": [
    "from random import random\n",
    "from random import randint\n",
    "from random import seed\n",
    "from sklearn.datasets import make_regression\n",
    "from matplotlib import pyplot"
   ]
  },
  {
   "cell_type": "code",
   "execution_count": 2,
   "id": "1f49f11b-806d-4f2a-aa4c-7ba4c20d15b6",
   "metadata": {},
   "outputs": [],
   "source": [
    "X, y = make_regression(n_samples=100, n_features=1, tail_strength=0.9, effective_rank=1, n_informative=1, noise=3, bias=50, random_state=1)"
   ]
  },
  {
   "cell_type": "code",
   "execution_count": null,
   "id": "b690b837-616d-4ec3-9235-756d2cf048f3",
   "metadata": {},
   "outputs": [],
   "source": []
  }
 ],
 "metadata": {
  "kernelspec": {
   "display_name": "Python 3 (ipykernel)",
   "language": "python",
   "name": "python3"
  },
  "language_info": {
   "codemirror_mode": {
    "name": "ipython",
    "version": 3
   },
   "file_extension": ".py",
   "mimetype": "text/x-python",
   "name": "python",
   "nbconvert_exporter": "python",
   "pygments_lexer": "ipython3",
   "version": "3.8.6"
  }
 },
 "nbformat": 4,
 "nbformat_minor": 5
}
