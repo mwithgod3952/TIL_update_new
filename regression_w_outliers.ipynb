{
 "cells": [
  {
   "cell_type": "markdown",
   "id": "bd3df7b7-6773-4fed-8df3-98d37e077362",
   "metadata": {},
   "source": [
    "- 본 과정에서는 \"Robust regression\"을 다른 regression과 비교하여 볼 것입니다.\n",
    "\n",
    "regression은 임의에 x 값이 변화됩에 따라 y값의 변화량이 선형적($y=ax^3+bx^2+cx+\\epsilon\\ \\ or\\ \\ y=ax^2+bx+\\epsilon\\ \\ or\\ \\ y=ax+\\epsilon.\\ \\ $ etc)인지를 확률(p-value)로 정의한다. 따라서, 오차가 존재하고 더불어, 이상치에 따라 예측이 외곡될 수도 있다.\n",
    "\n",
    "Robust regression은 이상치 탐색과 함께 회귀가 가능하다.\n",
    "회귀의 기본적인 원리는 각 변수 확률적 분포에 대한 비교라고 볼 수도 있습니다. 이런 이유로 이상치(outlier)는 '평균', '편차'와 같은 변수에 대해 'summary statistics'를 왜곡할 수 있고, 분포의 기준이 되는 '중심값'을 외곡시키기 때문에 해당 변수의 분포의 변화를 초래하여  점에서 고질적인 문제가 됩니다. \n",
    "\n",
    "해당 문제를 해결하기 위한 방법으로 이상치 예상을 구체적으로 해결하는 수정된 선형회귀(Robust regression)을 사용합니다. "
   ]
  },
  {
   "cell_type": "code",
   "execution_count": 9,
   "id": "270ff498-4d5b-42e1-9cd0-e5b34d7fe9c3",
   "metadata": {},
   "outputs": [],
   "source": [
    "# basic\n",
    "import os\n",
    "import numpy as np\n",
    "import pandas as pd\n",
    "from random import random, seed, randint\n",
    "\n",
    "# visualization\n",
    "import matplotlib.pyplot as plt \n",
    "\n",
    "# modeling\n",
    "from sklearn.datasets import make_regression\n",
    "from sklearn.linear_model import LinearRegression\n",
    "from sklearn.model_selection import RepeatedKFold, cross_val_score"
   ]
  },
  {
   "cell_type": "code",
   "execution_count": 2,
   "id": "4762fb56-8560-420a-915d-016ace73a9b5",
   "metadata": {},
   "outputs": [],
   "source": [
    "def data_generator():\n",
    "    X, y = make_regression(n_samples=100, n_features=1, tail_strength=0.9, effective_rank=1, n_informative=1, noise=3, bias=50, random_state=1)\n",
    "    # 데이터에 임의의 이상치를 추가합니다.\n",
    "    seed(1)\n",
    "    for i in range(10):\n",
    "        # range(2, 5) {2 <= x < 5} 범위에 대한 임의의 수를 생성합니다.     \n",
    "        factor = randint(2, 4)\n",
    "        # 의의로 생성한 난수에 X의 표준편차를 곱한 수를 i번째 독립변수에 더하거나 빼줍니다.     \n",
    "        if random() > 0.5:\n",
    "            X[i] += factor * X.std()\n",
    "        else:\n",
    "            X[i] -= factor * X.std()    \n",
    "    return X, y\n",
    "\n",
    "X, y = data_generator()"
   ]
  },
  {
   "cell_type": "code",
   "execution_count": 3,
   "id": "16c38ed3-40fb-4cff-9d6b-6790c8e2f1af",
   "metadata": {},
   "outputs": [
    {
     "name": "stdout",
     "output_type": "stream",
     "text": [
      "\n",
      "\t - Data shape : (100, 2)\n",
      "\n"
     ]
    },
    {
     "data": {
      "text/plain": [
       "<Figure size 360x360 with 0 Axes>"
      ]
     },
     "metadata": {},
     "output_type": "display_data"
    },
    {
     "data": {
      "image/png": "[encoded data removed]",
      "text/plain": [
       "<Figure size 432x288 with 1 Axes>"
      ]
     },
     "metadata": {
      "needs_background": "light"
     },
     "output_type": "display_data"
    }
   ],
   "source": [
    "df_main = pd.DataFrame( columns=['X', 'y'] )\n",
    "df_main.loc[:, 'X'] = list(map(lambda x: x[0], list(X)))\n",
    "df_main.loc[:, 'y'] = y\n",
    "\n",
    "print(f'\\n\\t - Data shape : {df_main.shape}\\n')\n",
    "plt.figure(figsize=(5, 5))\n",
    "df_main.plot.scatter(x='X', y='y')\n",
    "plt.show()"
   ]
  },
  {
   "cell_type": "markdown",
   "id": "e9ffb93a-6a61-455f-98e2-2663c427899a",
   "metadata": {},
   "source": [
    "위 그래프를 통해 확인할 수 있는 것은 선형적인 부분과 선형적 특성을 완전히 벗어나는 부분이 함게 있는 것입니다.\n",
    "\n",
    "위 데이터를 가지고 '선형회귀'를 수행해보겠습니다."
   ]
  },
  {
   "cell_type": "code",
   "execution_count": 24,
   "id": "a5e49b77-2e58-4a3b-9769-e16ba24e485f",
   "metadata": {},
   "outputs": [],
   "source": [
    "def eval_model(X=X, y=y, model=LinearRegression()):\n",
    "    '''\n",
    "    cv: cross validation\n",
    "    'neg_mean_absolute_error': MAE(Mean Absolute Error)\n",
    "    '''\n",
    "    \n",
    "    cv    = RepeatedKFold(n_splits=10, n_repeats=3, random_state=1)\n",
    "    score = cross_val_score(model, X, y, scoring='neg_mean_absolute_error', cv=cv, n_jobs=-1)\n",
    "    return np.absolute(score)\n",
    "\n",
    "def vis_BF(X=X, y=y, model=LinearRegression()):\n",
    "    x_ax = np.arange(X.min(), X.max(), step=0.01) \n",
    "    model.fit(X, y); y_ax = model.predict(x_ax.reshape((len(x_ax), 1)))\n",
    "    \n",
    "    plt.figure(figsize=(5, 5))\n",
    "    plt.scatter(X, y)\n",
    "    plt.plot(x_ax, y_ax, color='r', linestyle='dashed')\n",
    "    plt.title(type(model).__name__)\n",
    "    return plt.show()"
   ]
  },
  {
   "cell_type": "code",
   "execution_count": 27,
   "id": "d23d4f45-647e-4c09-b1db-02e6ff37d440",
   "metadata": {},
   "outputs": [
    {
     "name": "stdout",
     "output_type": "stream",
     "text": [
      "\t - Mean MAE: 5.260342552122636, std: 1.1486679656152237\n",
      "\n"
     ]
    },
    {
     "data": {
      "image/png": "[encoded data removed]",
      "text/plain": [
       "<Figure size 432x288 with 1 Axes>"
      ]
     },
     "metadata": {
      "needs_background": "light"
     },
     "output_type": "display_data"
    }
   ],
   "source": [
    "res = eval_model(); print('\\t - Mean MAE: {:}, std: {:}\\n'.format(np.mean(res), np.std(res)))\n",
    "vis_BF()"
   ]
  },
  {
   "cell_type": "code",
   "execution_count": null,
   "id": "7d5250cb-323e-4cba-964f-43d41f44b47c",
   "metadata": {},
   "outputs": [],
   "source": []
  }
 ],
 "metadata": {
  "kernelspec": {
   "display_name": "Python 3 (ipykernel)",
   "language": "python",
   "name": "python3"
  },
  "language_info": {
   "codemirror_mode": {
    "name": "ipython",
    "version": 3
   },
   "file_extension": ".py",
   "mimetype": "text/x-python",
   "name": "python",
   "nbconvert_exporter": "python",
   "pygments_lexer": "ipython3",
   "version": "3.8.6"
  }
 },
 "nbformat": 4,
 "nbformat_minor": 5
}
