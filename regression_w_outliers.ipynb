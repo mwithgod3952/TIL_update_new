{
 "cells": [
  {
   "cell_type": "markdown",
   "id": "bd3df7b7-6773-4fed-8df3-98d37e077362",
   "metadata": {},
   "source": [
    "- 본 과정에서는 \"Robust regression\"을 다른 regression과 비교하여 볼 것입니다.\n",
    "\n",
    "regression은 임의에 x 값이 변화됩에 따라 y값의 변화량이 선형적($y=ax^3+bx^2+cx+\\epsilon\\ \\ or\\ \\ y=ax^2+bx+\\epsilon\\ \\ or\\ \\ y=ax+\\epsilon.\\ \\ $ etc)인지를 확률(p-value)로 정의한다. 따라서, 오차가 존재하고 더불어, 이상치에 따라 예측이 외곡될 수도 있다.\n",
    "\n",
    "Robust regression은 이상치 탐색과 함께 회귀가 가능하다.\n",
    "회귀의 기본적인 원리는 각 변수 확률적 분포에 대한 비교라고 볼 수도 있습니다. 이런 이유로 이상치(outlier)는 '평균', '편차'와 같은 변수에 대해 'summary statistics'를 왜곡할 수 있고, 분포의 기준이 되는 '중심값'을 외곡시키기 때문에 해당 변수의 분포의 변화를 초래하여  점에서 고질적인 문제가 됩니다. \n",
    "\n",
    "해당 문제를 해결하기 위한 방법으로 이상치 예상을 구체적으로 해결하는 수정된 선형회귀(Robust regression)을 사용합니다. "
   ]
  },
  {
   "cell_type": "code",
   "execution_count": 3,
   "id": "270ff498-4d5b-42e1-9cd0-e5b34d7fe9c3",
   "metadata": {},
   "outputs": [],
   "source": [
    "from random import random\n",
    "from random import randint\n",
    "from random import seed\n",
    "from sklearn.datasets import make_regression\n",
    "from matplotlib import pyplot"
   ]
  },
  {
   "cell_type": "code",
   "execution_count": 4,
   "id": "1f49f11b-806d-4f2a-aa4c-7ba4c20d15b6",
   "metadata": {},
   "outputs": [],
   "source": [
    "X, y = make_regression(n_samples=100, n_features=1, tail_strength=0.9, effective_rank=1, n_informative=1, noise=3, bias=50, random_state=1)"
   ]
  },
  {
   "cell_type": "code",
   "execution_count": 35,
   "id": "4762fb56-8560-420a-915d-016ace73a9b5",
   "metadata": {},
   "outputs": [],
   "source": [
    "# 데이터에 임의의 이상치를 추가합니다.\n",
    "seed(1)\n",
    "for i in range(10):\n",
    "    # range(2, 5) {2 <= x < 5} 범위에 대한 임의의 수를 생성합니다.     \n",
    "    factor = randint(2, 4)\n",
    "    # 의의로 생성한 난수에 X의 표준편차를 곱한 수를 i번째 독립변수에 더하거나 빼줍니다.     \n",
    "    if random() > 0.5:\n",
    "        X[i] += factor * X.std()\n",
    "    else:\n",
    "        X[i] -= factor * X.std()        "
   ]
  },
  {
   "cell_type": "code",
   "execution_count": null,
   "id": "16c38ed3-40fb-4cff-9d6b-6790c8e2f1af",
   "metadata": {},
   "outputs": [],
   "source": []
  },
  {
   "cell_type": "code",
   "execution_count": null,
   "id": "1be457de-4f61-4a62-bd89-674034a77d77",
   "metadata": {},
   "outputs": [],
   "source": []
  },
  {
   "cell_type": "code",
   "execution_count": null,
   "id": "d23d4f45-647e-4c09-b1db-02e6ff37d440",
   "metadata": {},
   "outputs": [],
   "source": []
  },
  {
   "cell_type": "code",
   "execution_count": null,
   "id": "980c78a7-8452-4e30-934b-739210d5e83c",
   "metadata": {},
   "outputs": [],
   "source": []
  }
 ],
 "metadata": {
  "kernelspec": {
   "display_name": "Python 3 (ipykernel)",
   "language": "python",
   "name": "python3"
  },
  "language_info": {
   "codemirror_mode": {
    "name": "ipython",
    "version": 3
   },
   "file_extension": ".py",
   "mimetype": "text/x-python",
   "name": "python",
   "nbconvert_exporter": "python",
   "pygments_lexer": "ipython3",
   "version": "3.8.6"
  }
 },
 "nbformat": 4,
 "nbformat_minor": 5
}
